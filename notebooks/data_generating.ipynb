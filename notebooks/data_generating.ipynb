{
 "cells": [
  {
   "cell_type": "markdown",
   "metadata": {},
   "source": [
    "#### Data Generation\n",
    "\n",
    "In this part, some dataset will be generated to support as customer feedback for event, concert and tour by calling function faker to mock-up the data.\n",
    "\n",
    "Data scraping from BookMebus Website linked from customer review in each operator company\n",
    "\n",
    "p.s : About 80% of operator were srapped, the rest will be kept for unseen data testing"
   ]
  },
  {
   "cell_type": "code",
   "execution_count": null,
   "metadata": {},
   "outputs": [
    {
     "name": "stdout",
     "output_type": "stream",
     "text": [
      "Event, hotel, tour, and concert feedback data generated successfully with relative dates, organizer types, and human-like reviews.\n"
     ]
    }
   ],
   "source": [
    "import sys\n",
    "import os\n",
    "\n",
    "# Assuming the root directory of your project is the parent folder\n",
    "sys.path.append(os.path.abspath(os.path.join(os.getcwd(), 'sentiment_analysis')))\n",
    "\n",
    "# Importing the functions from faker_logic\n",
    "from data_collection.data_generating.faker_logic import generate_relative_date, generate_dynamic_review, generate_feedback_data, generate_all_feedback, save_to_csv\n",
    "\n",
    "df = generate_all_feedback()\n",
    "save_to_csv()"
   ]
  },
  {
   "cell_type": "markdown",
   "metadata": {},
   "source": [
    "## Data scraping"
   ]
  },
  {
   "cell_type": "code",
   "execution_count": null,
   "metadata": {},
   "outputs": [],
   "source": [
    "# Import necessary libraries\n",
    "import sys\n",
    "import os\n",
    "import pandas as pd\n",
    "import csv\n",
    "\n",
    "# Add the directory containing scraping_logic.py to sys.path\n",
    "sys.path.append(os.path.abspath(os.path.join(os.getcwd(), \"..\")))\n",
    "\n",
    "# Import functions from scraping_logic.py\n",
    "from data_collection.data_scraping.scraping_logic import setup_driver, extract_company_name, scrape_reviews, write_reviews_to_csv\n",
    "\n",
    "# Define the list of URLs to scrape\n",
    "urls = [\n",
    "    \"https://bookmebus.com/en/e-booking/reviews\",\n",
    "    \"https://bookmebus.com/en/www-bookmebus-com-sakurabus/reviews\"\n",
    "]\n",
    "\n",
    "# Set up the WebDriver\n",
    "driver = setup_driver()\n",
    "\n",
    "# Scrape reviews from each URL and combine them\n",
    "all_reviews_combined = []\n",
    "\n",
    "for url in urls:\n",
    "    # Extract the company slug from the URL (e.g., \"e-booking\")\n",
    "    company_slug = extract_company_name(url)\n",
    "    print(f\"Scraping reviews for: {company_slug}\")\n",
    "\n",
    "    # Scrape reviews from the current URL\n",
    "    reviews = scrape_reviews(driver, url)\n",
    "    print(f\"Found {len(reviews)} reviews for {company_slug}\")\n",
    "\n",
    "    # Add company slug to each review and append to the combined list\n",
    "    for review in reviews:\n",
    "        all_reviews_combined.append([company_slug] + review)\n",
    "\n",
    "# Write combined reviews to a single CSV file\n",
    "if all_reviews_combined:\n",
    "    output_filename = \"combined_reviews.csv\"\n",
    "    with open(output_filename, \"w\", newline=\"\", encoding=\"utf-8\") as csvfile:\n",
    "        writer = csv.writer(csvfile)\n",
    "        writer.writerow([\"Company\", \"User\", \"Date\", \"Rating\", \"Review\"])  # Header with Company column\n",
    "        writer.writerows(all_reviews_combined)\n",
    "    print(f\"Combined reviews saved to {output_filename}\")\n",
    "else:\n",
    "    print(\"No reviews were scraped from any of the URLs.\")\n",
    "\n",
    "# Close the WebDriver\n",
    "driver.quit()\n",
    "\n",
    "# Load the scraped reviews into a DataFrame for further analysis\n",
    "if os.path.exists(\"combined_reviews.csv\"):\n",
    "    df_reviews = pd.read_csv(\"combined_reviews.csv\")\n",
    "    print(\"\\nFirst few rows of the combined reviews DataFrame:\")\n",
    "    print(df_reviews.head())\n",
    "else:\n",
    "    print(\"No CSV file to load.\")"
   ]
  }
 ],
 "metadata": {
  "kernelspec": {
   "display_name": "Python 3",
   "language": "python",
   "name": "python3"
  },
  "language_info": {
   "codemirror_mode": {
    "name": "ipython",
    "version": 3
   },
   "file_extension": ".py",
   "mimetype": "text/x-python",
   "name": "python",
   "nbconvert_exporter": "python",
   "pygments_lexer": "ipython3",
   "version": "3.12.9"
  }
 },
 "nbformat": 4,
 "nbformat_minor": 2
}
