{
 "cells": [
  {
   "cell_type": "markdown",
   "metadata": {},
   "source": [
    "#### Data Generation\n",
    "\n",
    "In this part, some dataset will be generated to support as customer feedback for event, concert and tour by calling function faker to mock-up the data.\n",
    "\n",
    "Data scraping from BookMebus Website linked from customer review in each operator company\n",
    "\n",
    "p.s : About 80% of operator were srapped, the rest will be kept for unseen data testing"
   ]
  },
  {
   "cell_type": "code",
   "execution_count": null,
   "metadata": {},
   "outputs": [
    {
     "name": "stdout",
     "output_type": "stream",
     "text": [
      "Event, hotel, tour, and concert feedback data generated successfully with relative dates, organizer types, and human-like reviews.\n"
     ]
    }
   ],
   "source": [
    "import sys\n",
    "import os\n",
    "\n",
    "# Assuming the root directory of your project is the parent folder\n",
    "sys.path.append(os.path.abspath(os.path.join(os.getcwd(), 'sentiment_analysis')))\n",
    "\n",
    "# Importing the functions from faker_logic\n",
    "from data_collection.data_generating.faker_logic import generate_relative_date, generate_dynamic_review, generate_feedback_data, generate_all_feedback, save_to_csv\n",
    "\n",
    "df = generate_all_feedback()\n",
    "save_to_csv()"
   ]
  },
  {
   "cell_type": "code",
   "execution_count": null,
   "metadata": {},
   "outputs": [],
   "source": []
  }
 ],
 "metadata": {
  "kernelspec": {
   "display_name": "Python 3",
   "language": "python",
   "name": "python3"
  },
  "language_info": {
   "codemirror_mode": {
    "name": "ipython",
    "version": 3
   },
   "file_extension": ".py",
   "mimetype": "text/x-python",
   "name": "python",
   "nbconvert_exporter": "python",
   "pygments_lexer": "ipython3",
   "version": "3.12.9"
  }
 },
 "nbformat": 4,
 "nbformat_minor": 2
}
